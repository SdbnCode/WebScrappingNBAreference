{
 "cells": [
  {
   "cell_type": "code",
   "execution_count": 2,
   "id": "00fb9f25-df26-4b11-961f-bbd1bd86bf78",
   "metadata": {},
   "outputs": [],
   "source": [
    "import requests\n",
    "from bs4 import BeautifulSoup\n",
    "import pandas as pd\n",
    "from io import StringIO\n",
    "import time\n",
    "from selenium import webdriver"
   ]
  },
  {
   "cell_type": "code",
   "execution_count": 3,
   "id": "558915c2-8b61-4e9f-aa15-2f6982b35777",
   "metadata": {},
   "outputs": [],
   "source": [
    "years = list(range(1990, 2024))"
   ]
  },
  {
   "cell_type": "code",
   "execution_count": 4,
   "id": "a4aa66d2-23f0-488e-bd68-0eb8601bfbf7",
   "metadata": {},
   "outputs": [],
   "source": [
    "driver = webdriver.Chrome()"
   ]
  },
  {
   "cell_type": "code",
   "execution_count": 5,
   "id": "8a1dc9b6-979d-429f-b8de-a932f84e362e",
   "metadata": {},
   "outputs": [],
   "source": [
    "url_start = \"https://www.basketball-reference.com/leagues/NBA_{}_totals.html\""
   ]
  },
  {
   "cell_type": "code",
   "execution_count": 10,
   "id": "edaaf3e9-f8fa-4b4a-ba21-c27da38432eb",
   "metadata": {},
   "outputs": [],
   "source": [
    "#Iterate through the years to get the data for all players in each year\n",
    "for year in years:\n",
    "    url = url_start.format(year)\n",
    "    driver.get(url)\n",
    "    driver.execute_script(\"window.scrollTo(1,10000)\")\n",
    "    \n",
    "    time.sleep(7)\n",
    "    html = driver.page_source\n",
    "    \n",
    "    with open(\"seasonTotals/{}.html\".format(year), \"w+\", encoding=\"utf-8\") as f:\n",
    "        f.write(html)"
   ]
  },
  {
   "cell_type": "code",
   "execution_count": 70,
   "id": "db30cc6b-fb24-4680-83c0-8a1a482271cf",
   "metadata": {},
   "outputs": [],
   "source": [
    "# Parse data with BeautifulSoup, delete unwanted sections, and store it into a list to be moved to a csv\n",
    "data = []\n",
    "for year in years:\n",
    "    with open(\"seasonTotals/{}.html\".format(year), encoding=\"utf-8\") as f:\n",
    "        page = f.read()\n",
    "    soup = BeautifulSoup(page, \"html.parser\")    \n",
    "    total_stats_table = soup.find(id=\"totals_stats\")\n",
    "    soup.find('tr', class_=\"thead\").decompose()\n",
    "    \n",
    "    total_stats= pd.read_html(StringIO(str(total_stats_table)))[0]\n",
    "    total_stats['Year'] = year\n",
    "    \n",
    "    data.append(total_stats)"
   ]
  },
  {
   "cell_type": "code",
   "execution_count": 72,
   "id": "c991b405-c5a8-4e8f-a42b-6d898ef2246b",
   "metadata": {},
   "outputs": [],
   "source": [
    "total_stats_agg = pd.concat(data)"
   ]
  },
  {
   "cell_type": "code",
   "execution_count": 74,
   "id": "9edec1f9-b737-4685-9f33-35d9335727d1",
   "metadata": {},
   "outputs": [],
   "source": [
    "total_stats_agg.to_csv(\"total_stats.csv\")"
   ]
  },
  {
   "cell_type": "code",
   "execution_count": null,
   "id": "510be025-b370-448b-b2e2-597626826cfe",
   "metadata": {},
   "outputs": [],
   "source": []
  }
 ],
 "metadata": {
  "kernelspec": {
   "display_name": "Python 3 (ipykernel)",
   "language": "python",
   "name": "python3"
  },
  "language_info": {
   "codemirror_mode": {
    "name": "ipython",
    "version": 3
   },
   "file_extension": ".py",
   "mimetype": "text/x-python",
   "name": "python",
   "nbconvert_exporter": "python",
   "pygments_lexer": "ipython3",
   "version": "3.12.4"
  }
 },
 "nbformat": 4,
 "nbformat_minor": 5
}
