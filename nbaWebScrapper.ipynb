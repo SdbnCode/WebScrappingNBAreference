{
 "cells": [
  {
   "cell_type": "code",
   "execution_count": 41,
   "id": "00fb9f25-df26-4b11-961f-bbd1bd86bf78",
   "metadata": {},
   "outputs": [],
   "source": [
    "import requests\n",
    "from bs4 import BeautifulSoup\n",
    "import pandas as pd\n",
    "from io import StringIO"
   ]
  },
  {
   "cell_type": "code",
   "execution_count": 3,
   "id": "558915c2-8b61-4e9f-aa15-2f6982b35777",
   "metadata": {},
   "outputs": [],
   "source": [
    "years = list(range(1990,2024))"
   ]
  },
  {
   "cell_type": "code",
   "execution_count": 4,
   "id": "8a1dc9b6-979d-429f-b8de-a932f84e362e",
   "metadata": {},
   "outputs": [],
   "source": [
    "url_start = \"https://www.basketball-reference.com/leagues/NBA_{}_totals.html\""
   ]
  },
  {
   "cell_type": "code",
   "execution_count": 5,
   "id": "edaaf3e9-f8fa-4b4a-ba21-c27da38432eb",
   "metadata": {},
   "outputs": [],
   "source": [
    "#Iterate through the years to get the data for all players in each year\n",
    "for year in years:\n",
    "    url = url_start.format(year)\n",
    "    data = requests.get(url)\n",
    "    \n",
    "    with open(\"seasonTotals/{}.html\".format(year), \"w+\", encoding=\"utf-8\") as f:\n",
    "        f.write(data.text)"
   ]
  },
  {
   "cell_type": "code",
   "execution_count": 26,
   "id": "553a2343-629f-4e89-8af5-5f3fa8b907cb",
   "metadata": {},
   "outputs": [],
   "source": [
    " with open(\"seasonTotals/1990.html\", encoding=\"utf-8\") as f:\n",
    "    page = f.read()\n",
    "    "
   ]
  },
  {
   "cell_type": "code",
   "execution_count": 28,
   "id": "637fed16-4443-4f30-aaf3-afd7c18f6426",
   "metadata": {},
   "outputs": [],
   "source": [
    "soup = BeautifulSoup(page, \"html.parser\")"
   ]
  },
  {
   "cell_type": "code",
   "execution_count": 47,
   "id": "4965493a-d5c2-41cf-aa5a-407906499a73",
   "metadata": {},
   "outputs": [],
   "source": [
    "total_stats_table = str(soup.find(id=\"totals_stats\"))"
   ]
  },
  {
   "cell_type": "code",
   "execution_count": 49,
   "id": "b991be8a-bbc2-4e14-b310-8f838cae9538",
   "metadata": {},
   "outputs": [],
   "source": [
    "total_stats_table_1990 = pd.read_html(StringIO(total_stats_table))"
   ]
  },
  {
   "cell_type": "code",
   "execution_count": null,
   "id": "71dd4ff9-ca1e-40eb-8c4b-7ac2a71d1d0d",
   "metadata": {},
   "outputs": [],
   "source": []
  }
 ],
 "metadata": {
  "kernelspec": {
   "display_name": "Python 3 (ipykernel)",
   "language": "python",
   "name": "python3"
  },
  "language_info": {
   "codemirror_mode": {
    "name": "ipython",
    "version": 3
   },
   "file_extension": ".py",
   "mimetype": "text/x-python",
   "name": "python",
   "nbconvert_exporter": "python",
   "pygments_lexer": "ipython3",
   "version": "3.12.4"
  }
 },
 "nbformat": 4,
 "nbformat_minor": 5
}
